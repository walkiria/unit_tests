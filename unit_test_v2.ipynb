{
 "cells": [
  {
   "cell_type": "markdown",
   "metadata": {
    "toc": true
   },
   "source": [
    "<h1>Table of Contents<span class=\"tocSkip\"></span></h1>\n",
    "<div class=\"toc\"><ul class=\"toc-item\"><li><span><a href=\"#Testes-de-Unidade\" data-toc-modified-id=\"Testes-de-Unidade-1\"><span class=\"toc-item-num\">1&nbsp;&nbsp;</span>Testes de Unidade</a></span><ul class=\"toc-item\"><li><span><a href=\"#Checando-os-dados-que-foram-carregados\" data-toc-modified-id=\"Checando-os-dados-que-foram-carregados-1.1\"><span class=\"toc-item-num\">1.1&nbsp;&nbsp;</span>Checando os dados que foram carregados</a></span></li><li><span><a href=\"#Checando-criação-de-Features\" data-toc-modified-id=\"Checando-criação-de-Features-1.2\"><span class=\"toc-item-num\">1.2&nbsp;&nbsp;</span>Checando criação de Features</a></span></li><li><span><a href=\"#Checando-premissas-para-o-modelo-de-series-temporais\" data-toc-modified-id=\"Checando-premissas-para-o-modelo-de-series-temporais-1.3\"><span class=\"toc-item-num\">1.3&nbsp;&nbsp;</span>Checando premissas para o modelo de series temporais</a></span></li></ul></li></ul></div>"
   ]
  },
  {
   "cell_type": "markdown",
   "metadata": {},
   "source": [
    "## Testes de Unidade\n",
    "\n",
    "* **Beneficios**:\n",
    "\n",
    "    - Time savings, leading to faster development of new features.\n",
    "    - Improved documentation, which will help new colleagues understand the code base better.\n",
    "    - More user trust in the software product.\n",
    "    - Better user experience due to reduced downtime.\n",
    "\n",
    "* **Quantos testes escrever para uma função**:\n",
    "    - Testes com argumentos especiais (que provavelmente darão erro)\n",
    "    - Testes com argumentos 'limites' (testar intervalos)\n",
    "    - Testes com argumentos normais (devem funcionar)\n",
    "\n",
    "* **TDD**\n",
    "    - Escrever os testes primeiro e em seguida escrever a função para esse teste"
   ]
  },
  {
   "cell_type": "code",
   "execution_count": 155,
   "metadata": {},
   "outputs": [],
   "source": [
    "import pandas as pd\n",
    "import numpy as np\n",
    "import pytest\n",
    "from statsmodels.tsa.stattools import adfuller\n",
    "from sklearn.model_selection import TimeSeriesSplit"
   ]
  },
  {
   "cell_type": "code",
   "execution_count": 237,
   "metadata": {},
   "outputs": [
    {
     "data": {
      "text/plain": [
       "'6.0.1'"
      ]
     },
     "execution_count": 237,
     "metadata": {},
     "output_type": "execute_result"
    }
   ],
   "source": [
    "pytest.__version__"
   ]
  },
  {
   "cell_type": "code",
   "execution_count": 4,
   "metadata": {},
   "outputs": [],
   "source": [
    "def load_data():\n",
    "    df = pd.read_csv('src/train.csv')\n",
    "    return df"
   ]
  },
  {
   "cell_type": "code",
   "execution_count": 21,
   "metadata": {},
   "outputs": [],
   "source": [
    "# a function that makes something wrong and remove a line\n",
    "def some_function_error(df):\n",
    "    return df.iloc[-1]\n",
    "\n",
    "\n",
    "#for example a function make data stationary; \n",
    "def some_function(df):\n",
    "    df.age = np.log(df.age)\n",
    "    return df\n",
    "\n",
    "# for example a function that insert features; \n",
    "def some_function_add_columns(df_added):\n",
    "    df_added['new_column'] = np.log(df_added.age)\n",
    "    return df_added"
   ]
  },
  {
   "cell_type": "code",
   "execution_count": 275,
   "metadata": {},
   "outputs": [],
   "source": [
    "def split_into_training_and_testing_sets(df):\n",
    "#     X = np.array([[1, 2], [3, 4], [1, 2], [3, 4], [1, 2], [3, 4]])\n",
    "#     y = np.array([1, 2, 3, 4, 5, 6])|\n",
    "    print(df.ndim)\n",
    "    if df.ndim < 2:\n",
    "        raise ValueError(\"Argument data array must be two dimensional. Got 1 dimensional array instead!!\")\n",
    "    else:\n",
    "        X = df[:,0]\n",
    "        y = df[:,1]\n",
    "        try:\n",
    "            tscv = TimeSeriesSplit(n_splits=2)\n",
    "            print(tscv)\n",
    "\n",
    "            for train_index, test_index in tscv.split(X):\n",
    "                print(\"TRAIN:\", train_index, \"TEST:\", test_index)\n",
    "                X_train, X_test = X[train_index], X[test_index]\n",
    "                y_train, y_test = y[train_index], y[test_index]\n",
    "        except:\n",
    "            print('Error')"
   ]
  },
  {
   "cell_type": "markdown",
   "metadata": {},
   "source": [
    "### Checando os dados que foram carregados"
   ]
  },
  {
   "cell_type": "code",
   "execution_count": 65,
   "metadata": {},
   "outputs": [],
   "source": [
    "def test_load_data():\n",
    "    message = 'O dataset não foi carregado'\n",
    "    assert load_data().empty != True, message"
   ]
  },
  {
   "cell_type": "code",
   "execution_count": 19,
   "metadata": {},
   "outputs": [],
   "source": [
    "def test_primary_key():\n",
    "    df = load_data()\n",
    "    message = \"Existem duplicatas na base\"\n",
    "    assert len(df['surveyid'].unique())==df.shape[0], message"
   ]
  },
  {
   "cell_type": "code",
   "execution_count": 79,
   "metadata": {},
   "outputs": [],
   "source": [
    "def test_missing():\n",
    "    #catch missing values\n",
    "    df = load_data()\n",
    "    column = 'cons_tobacco'\n",
    "    expected = 0\n",
    "    actual = df[column].isna().sum()\n",
    "    message = \"Expected return value: {0}, Actual return value: {1}\".format(expected, actual)\n",
    "    assert actual == expected, message"
   ]
  },
  {
   "cell_type": "markdown",
   "metadata": {},
   "source": [
    "### Checando criação de Features"
   ]
  },
  {
   "cell_type": "code",
   "execution_count": 42,
   "metadata": {},
   "outputs": [],
   "source": [
    "def test_expected_shape():\n",
    "    df = load_data()\n",
    "    \n",
    "    expected = df.shape\n",
    "    actual = some_function_error(df).shape\n",
    "    message = \"Expected return value: {0}, Actual return value: {1}\".format(expected, actual)\n",
    "    assert all([some_function_error(df).shape == df.shape]), message\n"
   ]
  },
  {
   "cell_type": "code",
   "execution_count": 50,
   "metadata": {},
   "outputs": [],
   "source": [
    "def test_expect_shape_lines():\n",
    "    #check if number of lines is correct\n",
    "    df = load_data()\n",
    "    \n",
    "    expected = df.shape\n",
    "    actual = some_function_error(df).shape\n",
    "    message = \"Expected return value: {0}, Actual return value: {1}\".format(expected, actual)\n",
    "    assert all([some_function_add_columns(df).shape[0] == df.shape[0]]), message"
   ]
  },
  {
   "cell_type": "code",
   "execution_count": 52,
   "metadata": {},
   "outputs": [],
   "source": [
    "def test_expect_shape_columns():\n",
    "    #check if number of lines is correct\n",
    "    df = load_data()\n",
    "    \n",
    "    expected = df.shape\n",
    "    actual = some_function_error(df).shape\n",
    "    message = \"Expected return value: {0}, Actual return value: {1}\".format(expected, actual)\n",
    "    assert all([some_function_add_columns(df).shape[1] == df.shape[1]]), message"
   ]
  },
  {
   "cell_type": "code",
   "execution_count": 59,
   "metadata": {},
   "outputs": [],
   "source": [
    "def test_var_range():\n",
    "    df = load_data()\n",
    "    message = \"Existem valores fora do range esperado\"\n",
    "    assert all (df['age']<0), message\n"
   ]
  },
  {
   "cell_type": "code",
   "execution_count": 137,
   "metadata": {},
   "outputs": [],
   "source": [
    "def test_future_vars():\n",
    "    df = load_data()\n",
    "    expected = create_future_vars(df)\n",
    "    last = df[-1]\n",
    "    message = \"Data futura:  {0} menor que a ultima data do dataframe {1}\".format(expected, last)\n",
    "    assert all (expected <= last), message"
   ]
  },
  {
   "cell_type": "code",
   "execution_count": 111,
   "metadata": {},
   "outputs": [],
   "source": [
    "# check dummies\n",
    "def check_data_range(data, lower=0, upper=1):\n",
    "    assert min(data) >= lower, f\"minimum value less than {lower}\"\n",
    "    assert max(data) <= upper, f\"maximum value greater than {upper}\"\n",
    "\n",
    "def test_range():\n",
    "    df = load_data()\n",
    "\n",
    "    zero_one_cols = ['labor_force_part_rate', 'hotel_occup_rate',\n",
    "                     'hotel_avg_daily_rate', 'unemp_rate']\n",
    "    for col in zero_one_cols:\n",
    "        check_data_range(df['labor_force_part_rate'])"
   ]
  },
  {
   "cell_type": "markdown",
   "metadata": {},
   "source": [
    "### Checando premissas para o modelo de series temporais"
   ]
  },
  {
   "cell_type": "code",
   "execution_count": 83,
   "metadata": {},
   "outputs": [],
   "source": [
    "def test_vazamento_feature():\n",
    "    df = load_data()\n",
    "    expected = 90\n",
    "    actual = correlation(df)\n",
    "    message = \"Expected return value: {0}, Actual return value: {1}\".format(expected, actual)\n",
    "    assert all (actual < expected), message"
   ]
  },
  {
   "cell_type": "code",
   "execution_count": 107,
   "metadata": {},
   "outputs": [],
   "source": [
    "def test_stationary():\n",
    "    df = load_data()\n",
    "    X = df.age.values\n",
    "    expected = 0.05\n",
    "    actual = adfuller(X)\n",
    "    message = 'A serie não é estacionaria'\n",
    "    assert  (actual[1] <= expected), message"
   ]
  },
  {
   "cell_type": "code",
   "execution_count": 281,
   "metadata": {},
   "outputs": [],
   "source": [
    "#check bidimensional array\n",
    "def test_spliting_train_test():\n",
    "    example_argument = np.array([[2081, 314942],[1059, 186606],[1148, 206186],])\n",
    "    example_argument_error = np.array([2081, 314942, 1059, 186606, 1148, 206186])\n",
    "    \n",
    "    with pytest.raises(ValueError) as exception_info:\n",
    "        split_into_training_and_testing_sets(example_argument_error)\n",
    "    \n",
    "    # Check if ValueError contains correct message\n",
    "    assert exception_info.match(\"Argument data array must be two dimensional. Got 1 dimensional array instead!!\")"
   ]
  },
  {
   "cell_type": "code",
   "execution_count": null,
   "metadata": {},
   "outputs": [],
   "source": []
  }
 ],
 "metadata": {
  "kernelspec": {
   "display_name": "Python 3",
   "language": "python",
   "name": "python3"
  },
  "language_info": {
   "codemirror_mode": {
    "name": "ipython",
    "version": 3
   },
   "file_extension": ".py",
   "mimetype": "text/x-python",
   "name": "python",
   "nbconvert_exporter": "python",
   "pygments_lexer": "ipython3",
   "version": "3.7.6"
  },
  "toc": {
   "base_numbering": 1,
   "nav_menu": {},
   "number_sections": true,
   "sideBar": true,
   "skip_h1_title": false,
   "title_cell": "Table of Contents",
   "title_sidebar": "Contents",
   "toc_cell": true,
   "toc_position": {},
   "toc_section_display": true,
   "toc_window_display": true
  }
 },
 "nbformat": 4,
 "nbformat_minor": 4
}
