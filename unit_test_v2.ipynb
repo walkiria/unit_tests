{
 "cells": [
  {
   "cell_type": "markdown",
   "metadata": {
    "toc": true
   },
   "source": [
    "<h1>Table of Contents<span class=\"tocSkip\"></span></h1>\n",
    "<div class=\"toc\"><ul class=\"toc-item\"><li><span><a href=\"#Checando-os-dados-que-foram-carregados\" data-toc-modified-id=\"Checando-os-dados-que-foram-carregados-1\"><span class=\"toc-item-num\">1&nbsp;&nbsp;</span>Checando os dados que foram carregados</a></span></li><li><span><a href=\"#Checando-criação-de-Features\" data-toc-modified-id=\"Checando-criação-de-Features-2\"><span class=\"toc-item-num\">2&nbsp;&nbsp;</span>Checando criação de Features</a></span></li><li><span><a href=\"#Checando-premissas-para-o-moldelo\" data-toc-modified-id=\"Checando-premissas-para-o-moldelo-3\"><span class=\"toc-item-num\">3&nbsp;&nbsp;</span>Checando premissas para o moldelo</a></span></li></ul></div>"
   ]
  },
  {
   "cell_type": "code",
   "execution_count": 84,
   "metadata": {},
   "outputs": [],
   "source": [
    "import pandas as pd\n",
    "import numpy as np\n",
    "import pytest\n",
    "from statsmodels.tsa.stattools import adfuller"
   ]
  },
  {
   "cell_type": "code",
   "execution_count": 4,
   "metadata": {},
   "outputs": [],
   "source": [
    "def load_data():\n",
    "    df = pd.read_csv('src/train.csv')\n",
    "    return df"
   ]
  },
  {
   "cell_type": "code",
   "execution_count": 21,
   "metadata": {},
   "outputs": [],
   "source": [
    "# a function that makes something wrong and remove a line\n",
    "def some_function_error(df):\n",
    "    return df.iloc[-1]\n",
    "\n",
    "\n",
    "#for example a function make data stationary; \n",
    "def some_function(df):\n",
    "    df.age = np.log(df.age)\n",
    "    return df\n",
    "\n",
    "# for example a function that insert features; \n",
    "def some_function_add_columns(df_added):\n",
    "    df_added['new_column'] = np.log(df_added.age)\n",
    "    return df_added"
   ]
  },
  {
   "cell_type": "markdown",
   "metadata": {},
   "source": [
    "### Checando os dados que foram carregados"
   ]
  },
  {
   "cell_type": "code",
   "execution_count": 65,
   "metadata": {},
   "outputs": [],
   "source": [
    "def test_load_data():\n",
    "    message = 'O dataset não foi carregado'\n",
    "    assert load_data().empty != True, message"
   ]
  },
  {
   "cell_type": "code",
   "execution_count": 19,
   "metadata": {},
   "outputs": [],
   "source": [
    "def test_primary_key():\n",
    "    df = load_data()\n",
    "    message = \"Existem duplicatas na base\"\n",
    "    assert len(df['surveyid'].unique())==df.shape[0], message"
   ]
  },
  {
   "cell_type": "code",
   "execution_count": 79,
   "metadata": {},
   "outputs": [],
   "source": [
    "def test_missing():\n",
    "    #catch missing values\n",
    "    df = load_data()\n",
    "    column = 'cons_tobacco'\n",
    "    expected = 0\n",
    "    actual = df[column].isna().sum()\n",
    "    message = \"Expected return value: {0}, Actual return value: {1}\".format(expected, actual)\n",
    "    assert actual == expected, message"
   ]
  },
  {
   "cell_type": "markdown",
   "metadata": {},
   "source": [
    "### Checando criação de Features"
   ]
  },
  {
   "cell_type": "code",
   "execution_count": 42,
   "metadata": {},
   "outputs": [],
   "source": [
    "def test_expected_shape():\n",
    "    df = load_data()\n",
    "    \n",
    "    expected = df.shape\n",
    "    actual = some_function_error(df).shape\n",
    "    message = \"Expected return value: {0}, Actual return value: {1}\".format(expected, actual)\n",
    "    assert all([some_function_error(df).shape == df.shape]), message\n"
   ]
  },
  {
   "cell_type": "code",
   "execution_count": 50,
   "metadata": {},
   "outputs": [],
   "source": [
    "def test_expect_shape_lines():\n",
    "    #check if number of lines is correct\n",
    "    df = load_data()\n",
    "    \n",
    "    expected = df.shape\n",
    "    actual = some_function_error(df).shape\n",
    "    message = \"Expected return value: {0}, Actual return value: {1}\".format(expected, actual)\n",
    "    assert all([some_function_add_columns(df).shape[0] == df.shape[0]]), message"
   ]
  },
  {
   "cell_type": "code",
   "execution_count": 52,
   "metadata": {},
   "outputs": [],
   "source": [
    "def test_expect_shape_columns():\n",
    "    #check if number of lines is correct\n",
    "    df = load_data()\n",
    "    \n",
    "    expected = df.shape\n",
    "    actual = some_function_error(df).shape\n",
    "    message = \"Expected return value: {0}, Actual return value: {1}\".format(expected, actual)\n",
    "    assert all([some_function_add_columns(df).shape[1] == df.shape[1]]), message"
   ]
  },
  {
   "cell_type": "code",
   "execution_count": 59,
   "metadata": {},
   "outputs": [],
   "source": [
    "def test_var_range():\n",
    "    df = load_data()\n",
    "    message = \"Existem valores fora do range esperado\"\n",
    "    assert all (df['age']<0), message\n"
   ]
  },
  {
   "cell_type": "code",
   "execution_count": 137,
   "metadata": {},
   "outputs": [],
   "source": [
    "def test_future_vars():\n",
    "    df = load_data()\n",
    "    expected = create_future_vars(df)\n",
    "    last = df[-1]\n",
    "    message = \"Data futura:  {0} menor que a ultima data do dataframe {1}\".format(expected, last)\n",
    "    assert all (expected <= last), message"
   ]
  },
  {
   "cell_type": "code",
   "execution_count": 111,
   "metadata": {},
   "outputs": [],
   "source": [
    "# check dummies\n",
    "def check_data_range(data, lower=0, upper=1):\n",
    "    assert min(data) >= lower, f\"minimum value less than {lower}\"\n",
    "    assert max(data) <= upper, f\"maximum value greater than {upper}\"\n",
    "\n",
    "def test_range():\n",
    "    df = load_data()\n",
    "\n",
    "    zero_one_cols = ['labor_force_part_rate', 'hotel_occup_rate',\n",
    "                     'hotel_avg_daily_rate', 'unemp_rate']\n",
    "    for col in zero_one_cols:\n",
    "        check_data_range(df['labor_force_part_rate'])"
   ]
  },
  {
   "cell_type": "markdown",
   "metadata": {},
   "source": [
    "### Checando premissas para o moldelo"
   ]
  },
  {
   "cell_type": "code",
   "execution_count": 83,
   "metadata": {},
   "outputs": [],
   "source": [
    "def test_vazamento_feature():\n",
    "    df = load_data()\n",
    "    expected = 90\n",
    "    actual = correlation(df)\n",
    "    message = \"Expected return value: {0}, Actual return value: {1}\".format(expected, actual)\n",
    "    assert all (actual < expected), message"
   ]
  },
  {
   "cell_type": "code",
   "execution_count": 107,
   "metadata": {},
   "outputs": [],
   "source": [
    "def test_stationary():\n",
    "    df = load_data()\n",
    "    X = df.age.values\n",
    "    expected = 0.05\n",
    "    actual = adfuller(X)\n",
    "    message = 'A serie não é estacionaria'\n",
    "    assert  (actual[1] <= expected), message"
   ]
  },
  {
   "cell_type": "code",
   "execution_count": 136,
   "metadata": {},
   "outputs": [],
   "source": [
    "\n",
    "    "
   ]
  }
 ],
 "metadata": {
  "kernelspec": {
   "display_name": "Python 3",
   "language": "python",
   "name": "python3"
  },
  "language_info": {
   "codemirror_mode": {
    "name": "ipython",
    "version": 3
   },
   "file_extension": ".py",
   "mimetype": "text/x-python",
   "name": "python",
   "nbconvert_exporter": "python",
   "pygments_lexer": "ipython3",
   "version": "3.7.6"
  },
  "toc": {
   "base_numbering": 1,
   "nav_menu": {},
   "number_sections": true,
   "sideBar": true,
   "skip_h1_title": false,
   "title_cell": "Table of Contents",
   "title_sidebar": "Contents",
   "toc_cell": true,
   "toc_position": {},
   "toc_section_display": true,
   "toc_window_display": true
  }
 },
 "nbformat": 4,
 "nbformat_minor": 4
}
